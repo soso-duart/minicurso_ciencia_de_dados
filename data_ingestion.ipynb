{
 "cells": [
  {
   "cell_type": "code",
   "execution_count": 1,
   "id": "f366f3dc",
   "metadata": {},
   "outputs": [],
   "source": [
    "from common import ingest_ibge_data, ingest_cad_unico_data, ingest_data_dictionary"
   ]
  },
  {
   "cell_type": "code",
   "execution_count": 2,
   "id": "9a46903c",
   "metadata": {},
   "outputs": [
    {
     "name": "stderr",
     "output_type": "stream",
     "text": [
      "2025-06-26 22:12:49,016 - INFO - Ingesting IBGE data...\n",
      "2025-06-26 22:12:49,022 - INFO - Downloading IBGE data...\n",
      "2025-06-26 22:12:49,934 - INFO - IBGE data downloaded successfully.\n",
      "2025-06-26 22:12:50,032 - INFO - Connected to database: database.duckdb\n",
      "2025-06-26 22:12:50,067 - INFO - Executing query...\n",
      "2025-06-26 22:12:50,527 - INFO - Query executed successfully\n",
      "2025-06-26 22:12:50,565 - INFO - IBGE data ingested successfully.\n"
     ]
    }
   ],
   "source": [
    "ingest_ibge_data()"
   ]
  },
  {
   "cell_type": "code",
   "execution_count": 5,
   "id": "4518107a",
   "metadata": {},
   "outputs": [
    {
     "name": "stderr",
     "output_type": "stream",
     "text": [
      "2025-06-26 23:41:40,459 - INFO - Ingesting CAD Unico data...\n",
      "2025-06-26 23:41:40,460 - INFO - Downloading CAD Unico data...\n",
      "2025-06-26 23:41:41,279 - INFO - CAD Unico data downloaded successfully.\n",
      "2025-06-26 23:41:41,321 - INFO - Saving CAD Unico data to disk...\n",
      "2025-06-26 23:48:18,040 - INFO - CAD Unico data saved successfully.\n",
      "2025-06-26 23:48:18,058 - INFO - Extracting CAD Unico data...\n",
      "2025-06-26 23:48:53,193 - INFO - CAD Unico data extracted successfully.\n",
      "2025-06-26 23:48:53,195 - INFO - Cleaning CAD Unico CSV files...\n",
      "2025-06-26 23:48:53,196 - INFO - Cleaning CSV file: data/base_amostra_cad_201812/base_amostra_pessoa_201812.csv\n",
      "2025-06-26 23:48:53,198 - INFO - Cleaning CSV file: data/base_amostra_cad_201812/base_amostra_familia_201812.csv\n",
      "2025-06-26 23:52:30,937 - INFO - CSV file cleaned successfully: data/base_amostra_cad_201812/base_amostra_familia_201812.csv\n",
      "2025-06-26 23:54:30,311 - INFO - CSV file cleaned successfully: data/base_amostra_cad_201812/base_amostra_pessoa_201812.csv\n",
      "2025-06-26 23:54:30,314 - INFO - CAD Unico CSV files cleaned successfully.\n",
      "2025-06-26 23:54:30,565 - INFO - Connected to database: database.duckdb\n",
      "2025-06-26 23:54:30,601 - INFO - Executing query...\n"
     ]
    },
    {
     "data": {
      "application/vnd.jupyter.widget-view+json": {
       "model_id": "f8b5ed46165142bd98f885c906750f20",
       "version_major": 2,
       "version_minor": 0
      },
      "text/plain": [
       "FloatProgress(value=0.0, layout=Layout(width='auto'), style=ProgressStyle(bar_color='black'))"
      ]
     },
     "metadata": {},
     "output_type": "display_data"
    },
    {
     "name": "stderr",
     "output_type": "stream",
     "text": [
      "2025-06-26 23:55:07,951 - INFO - Query executed successfully\n",
      "2025-06-26 23:55:08,036 - INFO - Executing query...\n"
     ]
    },
    {
     "data": {
      "application/vnd.jupyter.widget-view+json": {
       "model_id": "ec4dd8182681413ca82c637096b30392",
       "version_major": 2,
       "version_minor": 0
      },
      "text/plain": [
       "FloatProgress(value=0.0, layout=Layout(width='auto'), style=ProgressStyle(bar_color='black'))"
      ]
     },
     "metadata": {},
     "output_type": "display_data"
    },
    {
     "name": "stderr",
     "output_type": "stream",
     "text": [
      "2025-06-26 23:55:22,161 - INFO - Query executed successfully\n",
      "2025-06-26 23:55:22,198 - INFO - CAD Unico data ingested successfully.\n"
     ]
    }
   ],
   "source": [
    "ingest_cad_unico_data()"
   ]
  },
  {
   "cell_type": "code",
   "execution_count": 4,
   "id": "ae8642df",
   "metadata": {},
   "outputs": [
    {
     "name": "stderr",
     "output_type": "stream",
     "text": [
      "2025-06-26 22:16:30,172 - INFO - Ingesting CAD Unico data dictionary...\n",
      "2025-06-26 22:16:30,174 - INFO - Downloading data dictionary...\n",
      "2025-06-26 22:16:31,524 - INFO - Data dictionary downloaded successfully.\n",
      "2025-06-26 22:16:31,526 - INFO - Cleaning Excel file: data/Dicionario_base_identificada_pt_R03.xlsx\n",
      "2025-06-26 22:16:39,447 - INFO - Excel file cleaned successfully: data/Dicionario_base_identificada_pt_R03.xlsx\n"
     ]
    }
   ],
   "source": [
    "ingest_data_dictionary()"
   ]
  }
 ],
 "metadata": {
  "kernelspec": {
   "display_name": "Python 3",
   "language": "python",
   "name": "python3"
  },
  "language_info": {
   "codemirror_mode": {
    "name": "ipython",
    "version": 3
   },
   "file_extension": ".py",
   "mimetype": "text/x-python",
   "name": "python",
   "nbconvert_exporter": "python",
   "pygments_lexer": "ipython3",
   "version": "3.13.3"
  }
 },
 "nbformat": 4,
 "nbformat_minor": 5
}
