{
 "cells": [
  {
   "cell_type": "markdown",
   "id": "5a7d6a39",
   "metadata": {},
   "source": [
    "# SQL Básico com DuckDB"
   ]
  },
  {
   "cell_type": "markdown",
   "id": "d50fb315",
   "metadata": {},
   "source": [
    "## Documentação da API em Python\n",
    "Uma API (Application Programming Interface ou Interface de Programação de Aplicações) é um conjunto de regras e protocolos que permite que diferentes softwares se comuniquem entre si. Simplificando, uma API atua como um intermediário, permitindo que um aplicativo acesse dados ou funcionalidades de outro sem que o primeiro precise conhecer os detalhes internos do segundo. \n",
    "* [DuckDB Python API](https://duckdb.org/docs/stable/clients/python/overview)"
   ]
  },
  {
   "cell_type": "code",
   "execution_count": 26,
   "id": "435598c9",
   "metadata": {},
   "outputs": [],
   "source": [
    "import duckdb"
   ]
  },
  {
   "cell_type": "markdown",
   "id": "a7961329",
   "metadata": {},
   "source": [
    "* [Connection Options](https://duckdb.org/docs/stable/clients/python/overview#connection-options)"
   ]
  },
  {
   "cell_type": "code",
   "execution_count": 27,
   "id": "e31c3f87",
   "metadata": {},
   "outputs": [],
   "source": [
    "conn = duckdb.connect()"
   ]
  },
  {
   "cell_type": "markdown",
   "id": "5c4c5431",
   "metadata": {},
   "source": [
    "* [CREATE TABLE Statement](https://duckdb.org/docs/stable/sql/statements/create_table)"
   ]
  },
  {
   "cell_type": "code",
   "execution_count": 28,
   "id": "bd439ebd",
   "metadata": {},
   "outputs": [
    {
     "data": {
      "text/plain": [
       "<duckdb.duckdb.DuckDBPyConnection at 0x7dda4e0b26b0>"
      ]
     },
     "execution_count": 28,
     "metadata": {},
     "output_type": "execute_result"
    }
   ],
   "source": [
    "conn.execute(\"\"\"\n",
    "    CREATE TABLE pessoas (\n",
    "        nome TEXT,\n",
    "        idade INTEGER,\n",
    "        cidade TEXT\n",
    "    );\n",
    "\"\"\")"
   ]
  },
  {
   "cell_type": "markdown",
   "id": "461ba9ff",
   "metadata": {},
   "source": [
    "* [INSERT Statement](https://duckdb.org/docs/stable/sql/statements/insert)"
   ]
  },
  {
   "cell_type": "code",
   "execution_count": 29,
   "id": "36ca0aa3",
   "metadata": {},
   "outputs": [
    {
     "data": {
      "text/plain": [
       "<duckdb.duckdb.DuckDBPyConnection at 0x7dda4e0b26b0>"
      ]
     },
     "execution_count": 29,
     "metadata": {},
     "output_type": "execute_result"
    }
   ],
   "source": [
    "conn.execute(\"\"\"\n",
    "    INSERT INTO pessoas VALUES\n",
    "        ('Ana', 22, 'Rio de Janeiro'),\n",
    "        ('Bruno', 35, 'São Paulo'),\n",
    "        ('Carla', 19, 'Belo Horizonte'),\n",
    "        ('Daniel', 40, 'São Paulo'),\n",
    "        ('Eduarda', 28, 'Curitiba');\n",
    "\"\"\")"
   ]
  },
  {
   "cell_type": "markdown",
   "id": "199fc8d6",
   "metadata": {},
   "source": [
    "* [SELECT Statement](https://duckdb.org/docs/stable/sql/statements/select)"
   ]
  },
  {
   "cell_type": "code",
   "execution_count": 30,
   "id": "9b1d4856",
   "metadata": {},
   "outputs": [
    {
     "data": {
      "text/html": [
       "<div>\n",
       "<style scoped>\n",
       "    .dataframe tbody tr th:only-of-type {\n",
       "        vertical-align: middle;\n",
       "    }\n",
       "\n",
       "    .dataframe tbody tr th {\n",
       "        vertical-align: top;\n",
       "    }\n",
       "\n",
       "    .dataframe thead th {\n",
       "        text-align: right;\n",
       "    }\n",
       "</style>\n",
       "<table border=\"1\" class=\"dataframe\">\n",
       "  <thead>\n",
       "    <tr style=\"text-align: right;\">\n",
       "      <th></th>\n",
       "      <th>nome</th>\n",
       "      <th>idade</th>\n",
       "      <th>cidade</th>\n",
       "    </tr>\n",
       "  </thead>\n",
       "  <tbody>\n",
       "    <tr>\n",
       "      <th>0</th>\n",
       "      <td>Ana</td>\n",
       "      <td>22</td>\n",
       "      <td>Rio de Janeiro</td>\n",
       "    </tr>\n",
       "    <tr>\n",
       "      <th>1</th>\n",
       "      <td>Bruno</td>\n",
       "      <td>35</td>\n",
       "      <td>São Paulo</td>\n",
       "    </tr>\n",
       "    <tr>\n",
       "      <th>2</th>\n",
       "      <td>Carla</td>\n",
       "      <td>19</td>\n",
       "      <td>Belo Horizonte</td>\n",
       "    </tr>\n",
       "    <tr>\n",
       "      <th>3</th>\n",
       "      <td>Daniel</td>\n",
       "      <td>40</td>\n",
       "      <td>São Paulo</td>\n",
       "    </tr>\n",
       "    <tr>\n",
       "      <th>4</th>\n",
       "      <td>Eduarda</td>\n",
       "      <td>28</td>\n",
       "      <td>Curitiba</td>\n",
       "    </tr>\n",
       "  </tbody>\n",
       "</table>\n",
       "</div>"
      ],
      "text/plain": [
       "      nome  idade          cidade\n",
       "0      Ana     22  Rio de Janeiro\n",
       "1    Bruno     35       São Paulo\n",
       "2    Carla     19  Belo Horizonte\n",
       "3   Daniel     40       São Paulo\n",
       "4  Eduarda     28        Curitiba"
      ]
     },
     "metadata": {},
     "output_type": "display_data"
    }
   ],
   "source": [
    "display(conn.execute(\"\"\"\n",
    "    SELECT\n",
    "        * \n",
    "    FROM pessoas\n",
    "\"\"\").df())"
   ]
  },
  {
   "cell_type": "markdown",
   "id": "2378041f",
   "metadata": {},
   "source": [
    "* [WHERE Clause](https://duckdb.org/docs/stable/sql/query_syntax/where)"
   ]
  },
  {
   "cell_type": "code",
   "execution_count": 31,
   "id": "d505893c",
   "metadata": {},
   "outputs": [
    {
     "data": {
      "text/html": [
       "<div>\n",
       "<style scoped>\n",
       "    .dataframe tbody tr th:only-of-type {\n",
       "        vertical-align: middle;\n",
       "    }\n",
       "\n",
       "    .dataframe tbody tr th {\n",
       "        vertical-align: top;\n",
       "    }\n",
       "\n",
       "    .dataframe thead th {\n",
       "        text-align: right;\n",
       "    }\n",
       "</style>\n",
       "<table border=\"1\" class=\"dataframe\">\n",
       "  <thead>\n",
       "    <tr style=\"text-align: right;\">\n",
       "      <th></th>\n",
       "      <th>nome</th>\n",
       "      <th>idade</th>\n",
       "      <th>cidade</th>\n",
       "    </tr>\n",
       "  </thead>\n",
       "  <tbody>\n",
       "    <tr>\n",
       "      <th>0</th>\n",
       "      <td>Bruno</td>\n",
       "      <td>35</td>\n",
       "      <td>São Paulo</td>\n",
       "    </tr>\n",
       "    <tr>\n",
       "      <th>1</th>\n",
       "      <td>Daniel</td>\n",
       "      <td>40</td>\n",
       "      <td>São Paulo</td>\n",
       "    </tr>\n",
       "  </tbody>\n",
       "</table>\n",
       "</div>"
      ],
      "text/plain": [
       "     nome  idade     cidade\n",
       "0   Bruno     35  São Paulo\n",
       "1  Daniel     40  São Paulo"
      ]
     },
     "metadata": {},
     "output_type": "display_data"
    }
   ],
   "source": [
    "display(conn.execute(\"\"\"\n",
    "    SELECT\n",
    "        *\n",
    "    FROM pessoas \n",
    "    WHERE idade > 30\n",
    "\"\"\").df())"
   ]
  },
  {
   "cell_type": "code",
   "execution_count": 32,
   "id": "6b8eb69b",
   "metadata": {},
   "outputs": [
    {
     "data": {
      "text/html": [
       "<div>\n",
       "<style scoped>\n",
       "    .dataframe tbody tr th:only-of-type {\n",
       "        vertical-align: middle;\n",
       "    }\n",
       "\n",
       "    .dataframe tbody tr th {\n",
       "        vertical-align: top;\n",
       "    }\n",
       "\n",
       "    .dataframe thead th {\n",
       "        text-align: right;\n",
       "    }\n",
       "</style>\n",
       "<table border=\"1\" class=\"dataframe\">\n",
       "  <thead>\n",
       "    <tr style=\"text-align: right;\">\n",
       "      <th></th>\n",
       "      <th>nome</th>\n",
       "      <th>idade</th>\n",
       "      <th>cidade</th>\n",
       "    </tr>\n",
       "  </thead>\n",
       "  <tbody>\n",
       "    <tr>\n",
       "      <th>0</th>\n",
       "      <td>Carla</td>\n",
       "      <td>19</td>\n",
       "      <td>Belo Horizonte</td>\n",
       "    </tr>\n",
       "    <tr>\n",
       "      <th>1</th>\n",
       "      <td>Daniel</td>\n",
       "      <td>40</td>\n",
       "      <td>São Paulo</td>\n",
       "    </tr>\n",
       "  </tbody>\n",
       "</table>\n",
       "</div>"
      ],
      "text/plain": [
       "     nome  idade          cidade\n",
       "0   Carla     19  Belo Horizonte\n",
       "1  Daniel     40       São Paulo"
      ]
     },
     "metadata": {},
     "output_type": "display_data"
    }
   ],
   "source": [
    "display(conn.execute(\"\"\"\n",
    "    SELECT\n",
    "        *\n",
    "    FROM pessoas \n",
    "    WHERE idade IN (19, 40)\n",
    "\"\"\").df())"
   ]
  },
  {
   "cell_type": "code",
   "execution_count": 33,
   "id": "59e4e3f6",
   "metadata": {},
   "outputs": [
    {
     "data": {
      "text/html": [
       "<div>\n",
       "<style scoped>\n",
       "    .dataframe tbody tr th:only-of-type {\n",
       "        vertical-align: middle;\n",
       "    }\n",
       "\n",
       "    .dataframe tbody tr th {\n",
       "        vertical-align: top;\n",
       "    }\n",
       "\n",
       "    .dataframe thead th {\n",
       "        text-align: right;\n",
       "    }\n",
       "</style>\n",
       "<table border=\"1\" class=\"dataframe\">\n",
       "  <thead>\n",
       "    <tr style=\"text-align: right;\">\n",
       "      <th></th>\n",
       "      <th>nome</th>\n",
       "      <th>idade</th>\n",
       "      <th>cidade</th>\n",
       "    </tr>\n",
       "  </thead>\n",
       "  <tbody>\n",
       "    <tr>\n",
       "      <th>0</th>\n",
       "      <td>Ana</td>\n",
       "      <td>22</td>\n",
       "      <td>Rio de Janeiro</td>\n",
       "    </tr>\n",
       "    <tr>\n",
       "      <th>1</th>\n",
       "      <td>Bruno</td>\n",
       "      <td>35</td>\n",
       "      <td>São Paulo</td>\n",
       "    </tr>\n",
       "    <tr>\n",
       "      <th>2</th>\n",
       "      <td>Eduarda</td>\n",
       "      <td>28</td>\n",
       "      <td>Curitiba</td>\n",
       "    </tr>\n",
       "  </tbody>\n",
       "</table>\n",
       "</div>"
      ],
      "text/plain": [
       "      nome  idade          cidade\n",
       "0      Ana     22  Rio de Janeiro\n",
       "1    Bruno     35       São Paulo\n",
       "2  Eduarda     28        Curitiba"
      ]
     },
     "metadata": {},
     "output_type": "display_data"
    }
   ],
   "source": [
    "display(conn.execute(\"\"\"\n",
    "    SELECT\n",
    "        *\n",
    "    FROM pessoas \n",
    "    WHERE idade BETWEEN 22 AND 35\n",
    "\"\"\").df())"
   ]
  },
  {
   "cell_type": "markdown",
   "id": "e9e648d1",
   "metadata": {},
   "source": [
    "* [Pattern Matching](https://duckdb.org/docs/stable/sql/functions/pattern_matching)"
   ]
  },
  {
   "cell_type": "code",
   "execution_count": 34,
   "id": "7ee54928",
   "metadata": {},
   "outputs": [
    {
     "data": {
      "text/html": [
       "<div>\n",
       "<style scoped>\n",
       "    .dataframe tbody tr th:only-of-type {\n",
       "        vertical-align: middle;\n",
       "    }\n",
       "\n",
       "    .dataframe tbody tr th {\n",
       "        vertical-align: top;\n",
       "    }\n",
       "\n",
       "    .dataframe thead th {\n",
       "        text-align: right;\n",
       "    }\n",
       "</style>\n",
       "<table border=\"1\" class=\"dataframe\">\n",
       "  <thead>\n",
       "    <tr style=\"text-align: right;\">\n",
       "      <th></th>\n",
       "      <th>nome</th>\n",
       "      <th>idade</th>\n",
       "      <th>cidade</th>\n",
       "    </tr>\n",
       "  </thead>\n",
       "  <tbody>\n",
       "    <tr>\n",
       "      <th>0</th>\n",
       "      <td>Ana</td>\n",
       "      <td>22</td>\n",
       "      <td>Rio de Janeiro</td>\n",
       "    </tr>\n",
       "    <tr>\n",
       "      <th>1</th>\n",
       "      <td>Carla</td>\n",
       "      <td>19</td>\n",
       "      <td>Belo Horizonte</td>\n",
       "    </tr>\n",
       "    <tr>\n",
       "      <th>2</th>\n",
       "      <td>Eduarda</td>\n",
       "      <td>28</td>\n",
       "      <td>Curitiba</td>\n",
       "    </tr>\n",
       "  </tbody>\n",
       "</table>\n",
       "</div>"
      ],
      "text/plain": [
       "      nome  idade          cidade\n",
       "0      Ana     22  Rio de Janeiro\n",
       "1    Carla     19  Belo Horizonte\n",
       "2  Eduarda     28        Curitiba"
      ]
     },
     "metadata": {},
     "output_type": "display_data"
    }
   ],
   "source": [
    "display(conn.execute(\"\"\"\n",
    "    SELECT\n",
    "        *\n",
    "    FROM pessoas \n",
    "    WHERE nome LIKE '%a'\n",
    "\"\"\").df())"
   ]
  },
  {
   "cell_type": "markdown",
   "id": "7bb8fc85",
   "metadata": {},
   "source": [
    "* [ORDER BY Clause](https://duckdb.org/docs/stable/sql/query_syntax/orderby)"
   ]
  },
  {
   "cell_type": "code",
   "execution_count": 35,
   "id": "6bfb1b4e",
   "metadata": {},
   "outputs": [
    {
     "data": {
      "text/html": [
       "<div>\n",
       "<style scoped>\n",
       "    .dataframe tbody tr th:only-of-type {\n",
       "        vertical-align: middle;\n",
       "    }\n",
       "\n",
       "    .dataframe tbody tr th {\n",
       "        vertical-align: top;\n",
       "    }\n",
       "\n",
       "    .dataframe thead th {\n",
       "        text-align: right;\n",
       "    }\n",
       "</style>\n",
       "<table border=\"1\" class=\"dataframe\">\n",
       "  <thead>\n",
       "    <tr style=\"text-align: right;\">\n",
       "      <th></th>\n",
       "      <th>nome</th>\n",
       "      <th>idade</th>\n",
       "      <th>cidade</th>\n",
       "    </tr>\n",
       "  </thead>\n",
       "  <tbody>\n",
       "    <tr>\n",
       "      <th>0</th>\n",
       "      <td>Daniel</td>\n",
       "      <td>40</td>\n",
       "      <td>São Paulo</td>\n",
       "    </tr>\n",
       "    <tr>\n",
       "      <th>1</th>\n",
       "      <td>Bruno</td>\n",
       "      <td>35</td>\n",
       "      <td>São Paulo</td>\n",
       "    </tr>\n",
       "    <tr>\n",
       "      <th>2</th>\n",
       "      <td>Eduarda</td>\n",
       "      <td>28</td>\n",
       "      <td>Curitiba</td>\n",
       "    </tr>\n",
       "    <tr>\n",
       "      <th>3</th>\n",
       "      <td>Ana</td>\n",
       "      <td>22</td>\n",
       "      <td>Rio de Janeiro</td>\n",
       "    </tr>\n",
       "    <tr>\n",
       "      <th>4</th>\n",
       "      <td>Carla</td>\n",
       "      <td>19</td>\n",
       "      <td>Belo Horizonte</td>\n",
       "    </tr>\n",
       "  </tbody>\n",
       "</table>\n",
       "</div>"
      ],
      "text/plain": [
       "      nome  idade          cidade\n",
       "0   Daniel     40       São Paulo\n",
       "1    Bruno     35       São Paulo\n",
       "2  Eduarda     28        Curitiba\n",
       "3      Ana     22  Rio de Janeiro\n",
       "4    Carla     19  Belo Horizonte"
      ]
     },
     "metadata": {},
     "output_type": "display_data"
    }
   ],
   "source": [
    "display(conn.execute(\"\"\"\n",
    "    SELECT\n",
    "        *\n",
    "    FROM pessoas\n",
    "    ORDER BY idade DESC\n",
    "\"\"\").df())"
   ]
  },
  {
   "cell_type": "markdown",
   "id": "f0ddccb4",
   "metadata": {},
   "source": [
    "* [LIMIT and OFFSET Clauses](https://duckdb.org/docs/stable/sql/query_syntax/limit)"
   ]
  },
  {
   "cell_type": "code",
   "execution_count": 36,
   "id": "caa73d73",
   "metadata": {},
   "outputs": [
    {
     "data": {
      "text/html": [
       "<div>\n",
       "<style scoped>\n",
       "    .dataframe tbody tr th:only-of-type {\n",
       "        vertical-align: middle;\n",
       "    }\n",
       "\n",
       "    .dataframe tbody tr th {\n",
       "        vertical-align: top;\n",
       "    }\n",
       "\n",
       "    .dataframe thead th {\n",
       "        text-align: right;\n",
       "    }\n",
       "</style>\n",
       "<table border=\"1\" class=\"dataframe\">\n",
       "  <thead>\n",
       "    <tr style=\"text-align: right;\">\n",
       "      <th></th>\n",
       "      <th>nome</th>\n",
       "      <th>idade</th>\n",
       "      <th>cidade</th>\n",
       "    </tr>\n",
       "  </thead>\n",
       "  <tbody>\n",
       "    <tr>\n",
       "      <th>0</th>\n",
       "      <td>Ana</td>\n",
       "      <td>22</td>\n",
       "      <td>Rio de Janeiro</td>\n",
       "    </tr>\n",
       "    <tr>\n",
       "      <th>1</th>\n",
       "      <td>Bruno</td>\n",
       "      <td>35</td>\n",
       "      <td>São Paulo</td>\n",
       "    </tr>\n",
       "    <tr>\n",
       "      <th>2</th>\n",
       "      <td>Carla</td>\n",
       "      <td>19</td>\n",
       "      <td>Belo Horizonte</td>\n",
       "    </tr>\n",
       "  </tbody>\n",
       "</table>\n",
       "</div>"
      ],
      "text/plain": [
       "    nome  idade          cidade\n",
       "0    Ana     22  Rio de Janeiro\n",
       "1  Bruno     35       São Paulo\n",
       "2  Carla     19  Belo Horizonte"
      ]
     },
     "metadata": {},
     "output_type": "display_data"
    }
   ],
   "source": [
    "display(conn.execute(\"\"\"\n",
    "    SELECT\n",
    "        *\n",
    "    FROM pessoas\n",
    "    LIMIT 3\n",
    "\"\"\").df())"
   ]
  },
  {
   "cell_type": "code",
   "execution_count": 37,
   "id": "8b89f4d1",
   "metadata": {},
   "outputs": [
    {
     "data": {
      "text/html": [
       "<div>\n",
       "<style scoped>\n",
       "    .dataframe tbody tr th:only-of-type {\n",
       "        vertical-align: middle;\n",
       "    }\n",
       "\n",
       "    .dataframe tbody tr th {\n",
       "        vertical-align: top;\n",
       "    }\n",
       "\n",
       "    .dataframe thead th {\n",
       "        text-align: right;\n",
       "    }\n",
       "</style>\n",
       "<table border=\"1\" class=\"dataframe\">\n",
       "  <thead>\n",
       "    <tr style=\"text-align: right;\">\n",
       "      <th></th>\n",
       "      <th>nome</th>\n",
       "      <th>idade</th>\n",
       "      <th>cidade</th>\n",
       "    </tr>\n",
       "  </thead>\n",
       "  <tbody>\n",
       "    <tr>\n",
       "      <th>0</th>\n",
       "      <td>Carla</td>\n",
       "      <td>19</td>\n",
       "      <td>Belo Horizonte</td>\n",
       "    </tr>\n",
       "    <tr>\n",
       "      <th>1</th>\n",
       "      <td>Daniel</td>\n",
       "      <td>40</td>\n",
       "      <td>São Paulo</td>\n",
       "    </tr>\n",
       "    <tr>\n",
       "      <th>2</th>\n",
       "      <td>Eduarda</td>\n",
       "      <td>28</td>\n",
       "      <td>Curitiba</td>\n",
       "    </tr>\n",
       "  </tbody>\n",
       "</table>\n",
       "</div>"
      ],
      "text/plain": [
       "      nome  idade          cidade\n",
       "0    Carla     19  Belo Horizonte\n",
       "1   Daniel     40       São Paulo\n",
       "2  Eduarda     28        Curitiba"
      ]
     },
     "metadata": {},
     "output_type": "display_data"
    }
   ],
   "source": [
    "display(conn.execute(\"\"\"\n",
    "    SELECT\n",
    "        *\n",
    "    FROM pessoas\n",
    "    LIMIT 3\n",
    "    OFFSET 2\n",
    "\"\"\").df())"
   ]
  },
  {
   "cell_type": "markdown",
   "id": "10f8b301",
   "metadata": {},
   "source": [
    "* [Aggregate Functions](https://duckdb.org/docs/stable/sql/functions/aggregates)"
   ]
  },
  {
   "cell_type": "code",
   "execution_count": 38,
   "id": "82fcd019",
   "metadata": {},
   "outputs": [
    {
     "data": {
      "text/html": [
       "<div>\n",
       "<style scoped>\n",
       "    .dataframe tbody tr th:only-of-type {\n",
       "        vertical-align: middle;\n",
       "    }\n",
       "\n",
       "    .dataframe tbody tr th {\n",
       "        vertical-align: top;\n",
       "    }\n",
       "\n",
       "    .dataframe thead th {\n",
       "        text-align: right;\n",
       "    }\n",
       "</style>\n",
       "<table border=\"1\" class=\"dataframe\">\n",
       "  <thead>\n",
       "    <tr style=\"text-align: right;\">\n",
       "      <th></th>\n",
       "      <th>soma_das_idades</th>\n",
       "    </tr>\n",
       "  </thead>\n",
       "  <tbody>\n",
       "    <tr>\n",
       "      <th>0</th>\n",
       "      <td>144.0</td>\n",
       "    </tr>\n",
       "  </tbody>\n",
       "</table>\n",
       "</div>"
      ],
      "text/plain": [
       "   soma_das_idades\n",
       "0            144.0"
      ]
     },
     "metadata": {},
     "output_type": "display_data"
    }
   ],
   "source": [
    "display(conn.execute(\"\"\"\n",
    "    SELECT\n",
    "        SUM(idade) as soma_das_idades\n",
    "    FROM pessoas\n",
    "\"\"\").df())"
   ]
  },
  {
   "cell_type": "markdown",
   "id": "dc9fe94c",
   "metadata": {},
   "source": [
    "* [GROUP BY Clause](https://duckdb.org/docs/stable/sql/query_syntax/groupby)"
   ]
  },
  {
   "cell_type": "code",
   "execution_count": 39,
   "id": "a0a349ab",
   "metadata": {},
   "outputs": [
    {
     "data": {
      "text/html": [
       "<div>\n",
       "<style scoped>\n",
       "    .dataframe tbody tr th:only-of-type {\n",
       "        vertical-align: middle;\n",
       "    }\n",
       "\n",
       "    .dataframe tbody tr th {\n",
       "        vertical-align: top;\n",
       "    }\n",
       "\n",
       "    .dataframe thead th {\n",
       "        text-align: right;\n",
       "    }\n",
       "</style>\n",
       "<table border=\"1\" class=\"dataframe\">\n",
       "  <thead>\n",
       "    <tr style=\"text-align: right;\">\n",
       "      <th></th>\n",
       "      <th>cidade</th>\n",
       "      <th>total</th>\n",
       "    </tr>\n",
       "  </thead>\n",
       "  <tbody>\n",
       "    <tr>\n",
       "      <th>0</th>\n",
       "      <td>Rio de Janeiro</td>\n",
       "      <td>1</td>\n",
       "    </tr>\n",
       "    <tr>\n",
       "      <th>1</th>\n",
       "      <td>São Paulo</td>\n",
       "      <td>2</td>\n",
       "    </tr>\n",
       "    <tr>\n",
       "      <th>2</th>\n",
       "      <td>Belo Horizonte</td>\n",
       "      <td>1</td>\n",
       "    </tr>\n",
       "    <tr>\n",
       "      <th>3</th>\n",
       "      <td>Curitiba</td>\n",
       "      <td>1</td>\n",
       "    </tr>\n",
       "  </tbody>\n",
       "</table>\n",
       "</div>"
      ],
      "text/plain": [
       "           cidade  total\n",
       "0  Rio de Janeiro      1\n",
       "1       São Paulo      2\n",
       "2  Belo Horizonte      1\n",
       "3        Curitiba      1"
      ]
     },
     "metadata": {},
     "output_type": "display_data"
    }
   ],
   "source": [
    "display(conn.execute(\"\"\"\n",
    "    SELECT\n",
    "        cidade,\n",
    "        COUNT(*) as total\n",
    "    FROM pessoas\n",
    "    GROUP BY cidade\n",
    "\"\"\").df())"
   ]
  },
  {
   "cell_type": "markdown",
   "id": "f88557a7",
   "metadata": {},
   "source": [
    "* [HAVING Clause](https://duckdb.org/docs/stable/sql/query_syntax/having)"
   ]
  },
  {
   "cell_type": "code",
   "execution_count": 40,
   "id": "3ee03dc8",
   "metadata": {},
   "outputs": [
    {
     "data": {
      "text/html": [
       "<div>\n",
       "<style scoped>\n",
       "    .dataframe tbody tr th:only-of-type {\n",
       "        vertical-align: middle;\n",
       "    }\n",
       "\n",
       "    .dataframe tbody tr th {\n",
       "        vertical-align: top;\n",
       "    }\n",
       "\n",
       "    .dataframe thead th {\n",
       "        text-align: right;\n",
       "    }\n",
       "</style>\n",
       "<table border=\"1\" class=\"dataframe\">\n",
       "  <thead>\n",
       "    <tr style=\"text-align: right;\">\n",
       "      <th></th>\n",
       "      <th>cidade</th>\n",
       "      <th>total</th>\n",
       "    </tr>\n",
       "  </thead>\n",
       "  <tbody>\n",
       "    <tr>\n",
       "      <th>0</th>\n",
       "      <td>Rio de Janeiro</td>\n",
       "      <td>1</td>\n",
       "    </tr>\n",
       "    <tr>\n",
       "      <th>1</th>\n",
       "      <td>Belo Horizonte</td>\n",
       "      <td>1</td>\n",
       "    </tr>\n",
       "    <tr>\n",
       "      <th>2</th>\n",
       "      <td>Curitiba</td>\n",
       "      <td>1</td>\n",
       "    </tr>\n",
       "  </tbody>\n",
       "</table>\n",
       "</div>"
      ],
      "text/plain": [
       "           cidade  total\n",
       "0  Rio de Janeiro      1\n",
       "1  Belo Horizonte      1\n",
       "2        Curitiba      1"
      ]
     },
     "metadata": {},
     "output_type": "display_data"
    }
   ],
   "source": [
    "display(conn.execute(\"\"\"\n",
    "    SELECT\n",
    "        cidade,\n",
    "        COUNT(*) as total\n",
    "    FROM pessoas\n",
    "    GROUP BY cidade\n",
    "    HAVING total = 1\n",
    "\"\"\").df())"
   ]
  },
  {
   "cell_type": "markdown",
   "id": "e4d720a3",
   "metadata": {},
   "source": [
    "* [CASE Expression](https://duckdb.org/docs/stable/sql/expressions/case)"
   ]
  },
  {
   "cell_type": "code",
   "execution_count": 42,
   "id": "0c2d5416",
   "metadata": {},
   "outputs": [
    {
     "data": {
      "text/html": [
       "<div>\n",
       "<style scoped>\n",
       "    .dataframe tbody tr th:only-of-type {\n",
       "        vertical-align: middle;\n",
       "    }\n",
       "\n",
       "    .dataframe tbody tr th {\n",
       "        vertical-align: top;\n",
       "    }\n",
       "\n",
       "    .dataframe thead th {\n",
       "        text-align: right;\n",
       "    }\n",
       "</style>\n",
       "<table border=\"1\" class=\"dataframe\">\n",
       "  <thead>\n",
       "    <tr style=\"text-align: right;\">\n",
       "      <th></th>\n",
       "      <th>nome</th>\n",
       "      <th>idade</th>\n",
       "      <th>cidade</th>\n",
       "      <th>faixa_etaria</th>\n",
       "    </tr>\n",
       "  </thead>\n",
       "  <tbody>\n",
       "    <tr>\n",
       "      <th>0</th>\n",
       "      <td>Ana</td>\n",
       "      <td>22</td>\n",
       "      <td>Rio de Janeiro</td>\n",
       "      <td>jovem</td>\n",
       "    </tr>\n",
       "    <tr>\n",
       "      <th>1</th>\n",
       "      <td>Carla</td>\n",
       "      <td>19</td>\n",
       "      <td>Belo Horizonte</td>\n",
       "      <td>jovem</td>\n",
       "    </tr>\n",
       "  </tbody>\n",
       "</table>\n",
       "</div>"
      ],
      "text/plain": [
       "    nome  idade          cidade faixa_etaria\n",
       "0    Ana     22  Rio de Janeiro        jovem\n",
       "1  Carla     19  Belo Horizonte        jovem"
      ]
     },
     "metadata": {},
     "output_type": "display_data"
    }
   ],
   "source": [
    "display(conn.execute(\"\"\"\n",
    "    SELECT *,\n",
    "        CASE\n",
    "            WHEN idade < 25 THEN 'jovem'\n",
    "            WHEN idade BETWEEN 25 AND 39 THEN 'adulto'\n",
    "            ELSE 'idoso'\n",
    "        END AS faixa_etaria\n",
    "    FROM pessoas\n",
    "    WHERE faixa_etaria = 'jovem'\n",
    "\"\"\").df())"
   ]
  },
  {
   "cell_type": "code",
   "execution_count": 17,
   "id": "29982171",
   "metadata": {},
   "outputs": [],
   "source": [
    "conn.close()"
   ]
  }
 ],
 "metadata": {
  "kernelspec": {
   "display_name": "Python 3",
   "language": "python",
   "name": "python3"
  },
  "language_info": {
   "codemirror_mode": {
    "name": "ipython",
    "version": 3
   },
   "file_extension": ".py",
   "mimetype": "text/x-python",
   "name": "python",
   "nbconvert_exporter": "python",
   "pygments_lexer": "ipython3",
   "version": "3.13.3"
  }
 },
 "nbformat": 4,
 "nbformat_minor": 5
}
