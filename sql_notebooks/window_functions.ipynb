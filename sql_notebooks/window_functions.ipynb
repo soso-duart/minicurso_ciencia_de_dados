{
 "cells": [
  {
   "cell_type": "markdown",
   "id": "5a7d6a39",
   "metadata": {},
   "source": [
    "# Window Functions com DuckDB\n",
    "\n",
    "* [Window Functions](https://duckdb.org/docs/stable/sql/functions/window_functions)"
   ]
  },
  {
   "cell_type": "code",
   "execution_count": 1,
   "id": "435598c9",
   "metadata": {},
   "outputs": [],
   "source": [
    "import duckdb"
   ]
  },
  {
   "cell_type": "code",
   "execution_count": 2,
   "id": "e31c3f87",
   "metadata": {},
   "outputs": [],
   "source": [
    "conn = duckdb.connect()"
   ]
  },
  {
   "cell_type": "code",
   "execution_count": 3,
   "id": "705464a4",
   "metadata": {},
   "outputs": [
    {
     "data": {
      "text/plain": [
       "<duckdb.duckdb.DuckDBPyConnection at 0x71ed996f5a30>"
      ]
     },
     "execution_count": 3,
     "metadata": {},
     "output_type": "execute_result"
    }
   ],
   "source": [
    "conn.execute(\"\"\"\n",
    "    CREATE OR REPLACE TABLE vendas (\n",
    "        id INTEGER,\n",
    "        vendedor TEXT,\n",
    "        regiao TEXT,\n",
    "        valor NUMERIC,\n",
    "        data DATE\n",
    "    );\n",
    "\"\"\")"
   ]
  },
  {
   "cell_type": "code",
   "execution_count": 4,
   "id": "c6291991",
   "metadata": {},
   "outputs": [],
   "source": [
    "dados = [\n",
    "    (1, 'Ana',    'Sul',   1000, '2024-01-01'),\n",
    "    (2, 'Bruno',  'Sul',   1500, '2024-01-02'),\n",
    "    (3, 'Carla',  'Norte', 1200, '2024-01-03'),\n",
    "    (4, 'Ana',    'Sul',   900,  '2024-01-04'),\n",
    "    (5, 'Bruno',  'Sul',   2000, '2024-01-05'),\n",
    "    (6, 'Carla',  'Norte', 1100, '2024-01-06'),\n",
    "    (7, 'Ana',    'Sul',   1500, '2024-01-07')\n",
    "]"
   ]
  },
  {
   "cell_type": "markdown",
   "id": "05880240",
   "metadata": {},
   "source": [
    "* [Prepared Statements](https://duckdb.org/docs/stable/clients/python/dbapi#prepared-statements)"
   ]
  },
  {
   "cell_type": "code",
   "execution_count": 5,
   "id": "29b75e41",
   "metadata": {},
   "outputs": [
    {
     "data": {
      "text/plain": [
       "<duckdb.duckdb.DuckDBPyConnection at 0x71ed996f5a30>"
      ]
     },
     "execution_count": 5,
     "metadata": {},
     "output_type": "execute_result"
    }
   ],
   "source": [
    "conn.executemany(\n",
    "    \"INSERT INTO vendas VALUES (?, ?, ?, ?, ?);\",\n",
    "    dados\n",
    ")"
   ]
  },
  {
   "cell_type": "markdown",
   "id": "73323c5a",
   "metadata": {},
   "source": [
    "* [Aggregate Window Functions](https://duckdb.org/docs/stable/sql/functions/window_functions#aggregate-window-functions)"
   ]
  },
  {
   "cell_type": "code",
   "execution_count": 6,
   "id": "34e2089c",
   "metadata": {},
   "outputs": [
    {
     "data": {
      "text/html": [
       "<div>\n",
       "<style scoped>\n",
       "    .dataframe tbody tr th:only-of-type {\n",
       "        vertical-align: middle;\n",
       "    }\n",
       "\n",
       "    .dataframe tbody tr th {\n",
       "        vertical-align: top;\n",
       "    }\n",
       "\n",
       "    .dataframe thead th {\n",
       "        text-align: right;\n",
       "    }\n",
       "</style>\n",
       "<table border=\"1\" class=\"dataframe\">\n",
       "  <thead>\n",
       "    <tr style=\"text-align: right;\">\n",
       "      <th></th>\n",
       "      <th>vendedor</th>\n",
       "      <th>data</th>\n",
       "      <th>valor</th>\n",
       "      <th>soma_acumulada</th>\n",
       "    </tr>\n",
       "  </thead>\n",
       "  <tbody>\n",
       "    <tr>\n",
       "      <th>0</th>\n",
       "      <td>Bruno</td>\n",
       "      <td>2024-01-02</td>\n",
       "      <td>1500.0</td>\n",
       "      <td>1500.0</td>\n",
       "    </tr>\n",
       "    <tr>\n",
       "      <th>1</th>\n",
       "      <td>Bruno</td>\n",
       "      <td>2024-01-05</td>\n",
       "      <td>2000.0</td>\n",
       "      <td>3500.0</td>\n",
       "    </tr>\n",
       "    <tr>\n",
       "      <th>2</th>\n",
       "      <td>Carla</td>\n",
       "      <td>2024-01-03</td>\n",
       "      <td>1200.0</td>\n",
       "      <td>1200.0</td>\n",
       "    </tr>\n",
       "    <tr>\n",
       "      <th>3</th>\n",
       "      <td>Carla</td>\n",
       "      <td>2024-01-06</td>\n",
       "      <td>1100.0</td>\n",
       "      <td>2300.0</td>\n",
       "    </tr>\n",
       "    <tr>\n",
       "      <th>4</th>\n",
       "      <td>Ana</td>\n",
       "      <td>2024-01-01</td>\n",
       "      <td>1000.0</td>\n",
       "      <td>1000.0</td>\n",
       "    </tr>\n",
       "    <tr>\n",
       "      <th>5</th>\n",
       "      <td>Ana</td>\n",
       "      <td>2024-01-04</td>\n",
       "      <td>900.0</td>\n",
       "      <td>1900.0</td>\n",
       "    </tr>\n",
       "    <tr>\n",
       "      <th>6</th>\n",
       "      <td>Ana</td>\n",
       "      <td>2024-01-07</td>\n",
       "      <td>1500.0</td>\n",
       "      <td>3400.0</td>\n",
       "    </tr>\n",
       "  </tbody>\n",
       "</table>\n",
       "</div>"
      ],
      "text/plain": [
       "  vendedor       data   valor  soma_acumulada\n",
       "0    Bruno 2024-01-02  1500.0          1500.0\n",
       "1    Bruno 2024-01-05  2000.0          3500.0\n",
       "2    Carla 2024-01-03  1200.0          1200.0\n",
       "3    Carla 2024-01-06  1100.0          2300.0\n",
       "4      Ana 2024-01-01  1000.0          1000.0\n",
       "5      Ana 2024-01-04   900.0          1900.0\n",
       "6      Ana 2024-01-07  1500.0          3400.0"
      ]
     },
     "metadata": {},
     "output_type": "display_data"
    }
   ],
   "source": [
    "display(conn.execute(\"\"\"\n",
    "    SELECT\n",
    "        vendedor,\n",
    "        data,\n",
    "        valor,\n",
    "        SUM(valor) OVER (PARTITION BY vendedor ORDER BY data) AS soma_acumulada\n",
    "    FROM vendas;\n",
    "\"\"\").df())"
   ]
  },
  {
   "cell_type": "markdown",
   "id": "38877074",
   "metadata": {},
   "source": [
    "* [RANK](https://duckdb.org/docs/stable/sql/functions/window_functions#rankorder-by-ordering)"
   ]
  },
  {
   "cell_type": "code",
   "execution_count": 7,
   "id": "2fc2436a",
   "metadata": {},
   "outputs": [
    {
     "data": {
      "text/html": [
       "<div>\n",
       "<style scoped>\n",
       "    .dataframe tbody tr th:only-of-type {\n",
       "        vertical-align: middle;\n",
       "    }\n",
       "\n",
       "    .dataframe tbody tr th {\n",
       "        vertical-align: top;\n",
       "    }\n",
       "\n",
       "    .dataframe thead th {\n",
       "        text-align: right;\n",
       "    }\n",
       "</style>\n",
       "<table border=\"1\" class=\"dataframe\">\n",
       "  <thead>\n",
       "    <tr style=\"text-align: right;\">\n",
       "      <th></th>\n",
       "      <th>vendedor</th>\n",
       "      <th>valor</th>\n",
       "      <th>regiao</th>\n",
       "      <th>ranking</th>\n",
       "    </tr>\n",
       "  </thead>\n",
       "  <tbody>\n",
       "    <tr>\n",
       "      <th>0</th>\n",
       "      <td>Carla</td>\n",
       "      <td>1200.0</td>\n",
       "      <td>Norte</td>\n",
       "      <td>1</td>\n",
       "    </tr>\n",
       "    <tr>\n",
       "      <th>1</th>\n",
       "      <td>Carla</td>\n",
       "      <td>1100.0</td>\n",
       "      <td>Norte</td>\n",
       "      <td>2</td>\n",
       "    </tr>\n",
       "    <tr>\n",
       "      <th>2</th>\n",
       "      <td>Bruno</td>\n",
       "      <td>2000.0</td>\n",
       "      <td>Sul</td>\n",
       "      <td>1</td>\n",
       "    </tr>\n",
       "    <tr>\n",
       "      <th>3</th>\n",
       "      <td>Bruno</td>\n",
       "      <td>1500.0</td>\n",
       "      <td>Sul</td>\n",
       "      <td>2</td>\n",
       "    </tr>\n",
       "    <tr>\n",
       "      <th>4</th>\n",
       "      <td>Ana</td>\n",
       "      <td>1500.0</td>\n",
       "      <td>Sul</td>\n",
       "      <td>2</td>\n",
       "    </tr>\n",
       "    <tr>\n",
       "      <th>5</th>\n",
       "      <td>Ana</td>\n",
       "      <td>1000.0</td>\n",
       "      <td>Sul</td>\n",
       "      <td>4</td>\n",
       "    </tr>\n",
       "    <tr>\n",
       "      <th>6</th>\n",
       "      <td>Ana</td>\n",
       "      <td>900.0</td>\n",
       "      <td>Sul</td>\n",
       "      <td>5</td>\n",
       "    </tr>\n",
       "  </tbody>\n",
       "</table>\n",
       "</div>"
      ],
      "text/plain": [
       "  vendedor   valor regiao  ranking\n",
       "0    Carla  1200.0  Norte        1\n",
       "1    Carla  1100.0  Norte        2\n",
       "2    Bruno  2000.0    Sul        1\n",
       "3    Bruno  1500.0    Sul        2\n",
       "4      Ana  1500.0    Sul        2\n",
       "5      Ana  1000.0    Sul        4\n",
       "6      Ana   900.0    Sul        5"
      ]
     },
     "metadata": {},
     "output_type": "display_data"
    }
   ],
   "source": [
    "display(conn.execute(\"\"\"\n",
    "    SELECT\n",
    "        vendedor,\n",
    "        valor,\n",
    "        regiao,\n",
    "        RANK() OVER (PARTITION BY regiao ORDER BY valor DESC) AS ranking\n",
    "    FROM vendas;\n",
    "\"\"\").df())"
   ]
  },
  {
   "cell_type": "markdown",
   "id": "918f51fb",
   "metadata": {},
   "source": [
    "* [LAG](https://duckdb.org/docs/stable/sql/functions/window_functions#lagexpr-offset-default-order-by-ordering-ignore-nulls)"
   ]
  },
  {
   "cell_type": "code",
   "execution_count": 8,
   "id": "9f574ba9",
   "metadata": {},
   "outputs": [
    {
     "data": {
      "text/html": [
       "<div>\n",
       "<style scoped>\n",
       "    .dataframe tbody tr th:only-of-type {\n",
       "        vertical-align: middle;\n",
       "    }\n",
       "\n",
       "    .dataframe tbody tr th {\n",
       "        vertical-align: top;\n",
       "    }\n",
       "\n",
       "    .dataframe thead th {\n",
       "        text-align: right;\n",
       "    }\n",
       "</style>\n",
       "<table border=\"1\" class=\"dataframe\">\n",
       "  <thead>\n",
       "    <tr style=\"text-align: right;\">\n",
       "      <th></th>\n",
       "      <th>vendedor</th>\n",
       "      <th>data</th>\n",
       "      <th>valor</th>\n",
       "      <th>valor_anterior</th>\n",
       "    </tr>\n",
       "  </thead>\n",
       "  <tbody>\n",
       "    <tr>\n",
       "      <th>0</th>\n",
       "      <td>Carla</td>\n",
       "      <td>2024-01-03</td>\n",
       "      <td>1200.0</td>\n",
       "      <td>NaN</td>\n",
       "    </tr>\n",
       "    <tr>\n",
       "      <th>1</th>\n",
       "      <td>Carla</td>\n",
       "      <td>2024-01-06</td>\n",
       "      <td>1100.0</td>\n",
       "      <td>1200.0</td>\n",
       "    </tr>\n",
       "    <tr>\n",
       "      <th>2</th>\n",
       "      <td>Ana</td>\n",
       "      <td>2024-01-01</td>\n",
       "      <td>1000.0</td>\n",
       "      <td>NaN</td>\n",
       "    </tr>\n",
       "    <tr>\n",
       "      <th>3</th>\n",
       "      <td>Ana</td>\n",
       "      <td>2024-01-04</td>\n",
       "      <td>900.0</td>\n",
       "      <td>1000.0</td>\n",
       "    </tr>\n",
       "    <tr>\n",
       "      <th>4</th>\n",
       "      <td>Ana</td>\n",
       "      <td>2024-01-07</td>\n",
       "      <td>1500.0</td>\n",
       "      <td>900.0</td>\n",
       "    </tr>\n",
       "    <tr>\n",
       "      <th>5</th>\n",
       "      <td>Bruno</td>\n",
       "      <td>2024-01-02</td>\n",
       "      <td>1500.0</td>\n",
       "      <td>NaN</td>\n",
       "    </tr>\n",
       "    <tr>\n",
       "      <th>6</th>\n",
       "      <td>Bruno</td>\n",
       "      <td>2024-01-05</td>\n",
       "      <td>2000.0</td>\n",
       "      <td>1500.0</td>\n",
       "    </tr>\n",
       "  </tbody>\n",
       "</table>\n",
       "</div>"
      ],
      "text/plain": [
       "  vendedor       data   valor  valor_anterior\n",
       "0    Carla 2024-01-03  1200.0             NaN\n",
       "1    Carla 2024-01-06  1100.0          1200.0\n",
       "2      Ana 2024-01-01  1000.0             NaN\n",
       "3      Ana 2024-01-04   900.0          1000.0\n",
       "4      Ana 2024-01-07  1500.0           900.0\n",
       "5    Bruno 2024-01-02  1500.0             NaN\n",
       "6    Bruno 2024-01-05  2000.0          1500.0"
      ]
     },
     "metadata": {},
     "output_type": "display_data"
    }
   ],
   "source": [
    "display(conn.execute(\"\"\"\n",
    "    SELECT\n",
    "        vendedor,\n",
    "        data,\n",
    "        valor,\n",
    "        LAG(valor) OVER (PARTITION BY vendedor ORDER BY data) AS valor_anterior\n",
    "    FROM vendas;\n",
    "\"\"\").df())"
   ]
  },
  {
   "cell_type": "markdown",
   "id": "c451317c",
   "metadata": {},
   "source": [
    "* [NTILE](https://duckdb.org/docs/stable/sql/functions/window_functions#ntilenum_buckets-order-by-ordering)"
   ]
  },
  {
   "cell_type": "code",
   "execution_count": 9,
   "id": "5facb2bd",
   "metadata": {},
   "outputs": [
    {
     "data": {
      "text/html": [
       "<div>\n",
       "<style scoped>\n",
       "    .dataframe tbody tr th:only-of-type {\n",
       "        vertical-align: middle;\n",
       "    }\n",
       "\n",
       "    .dataframe tbody tr th {\n",
       "        vertical-align: top;\n",
       "    }\n",
       "\n",
       "    .dataframe thead th {\n",
       "        text-align: right;\n",
       "    }\n",
       "</style>\n",
       "<table border=\"1\" class=\"dataframe\">\n",
       "  <thead>\n",
       "    <tr style=\"text-align: right;\">\n",
       "      <th></th>\n",
       "      <th>vendedor</th>\n",
       "      <th>valor</th>\n",
       "      <th>quartil</th>\n",
       "    </tr>\n",
       "  </thead>\n",
       "  <tbody>\n",
       "    <tr>\n",
       "      <th>0</th>\n",
       "      <td>Bruno</td>\n",
       "      <td>2000.0</td>\n",
       "      <td>1</td>\n",
       "    </tr>\n",
       "    <tr>\n",
       "      <th>1</th>\n",
       "      <td>Bruno</td>\n",
       "      <td>1500.0</td>\n",
       "      <td>1</td>\n",
       "    </tr>\n",
       "    <tr>\n",
       "      <th>2</th>\n",
       "      <td>Ana</td>\n",
       "      <td>1500.0</td>\n",
       "      <td>2</td>\n",
       "    </tr>\n",
       "    <tr>\n",
       "      <th>3</th>\n",
       "      <td>Carla</td>\n",
       "      <td>1200.0</td>\n",
       "      <td>2</td>\n",
       "    </tr>\n",
       "    <tr>\n",
       "      <th>4</th>\n",
       "      <td>Carla</td>\n",
       "      <td>1100.0</td>\n",
       "      <td>3</td>\n",
       "    </tr>\n",
       "    <tr>\n",
       "      <th>5</th>\n",
       "      <td>Ana</td>\n",
       "      <td>1000.0</td>\n",
       "      <td>3</td>\n",
       "    </tr>\n",
       "    <tr>\n",
       "      <th>6</th>\n",
       "      <td>Ana</td>\n",
       "      <td>900.0</td>\n",
       "      <td>4</td>\n",
       "    </tr>\n",
       "  </tbody>\n",
       "</table>\n",
       "</div>"
      ],
      "text/plain": [
       "  vendedor   valor  quartil\n",
       "0    Bruno  2000.0        1\n",
       "1    Bruno  1500.0        1\n",
       "2      Ana  1500.0        2\n",
       "3    Carla  1200.0        2\n",
       "4    Carla  1100.0        3\n",
       "5      Ana  1000.0        3\n",
       "6      Ana   900.0        4"
      ]
     },
     "metadata": {},
     "output_type": "display_data"
    }
   ],
   "source": [
    "display(conn.execute(\"\"\"\n",
    "    SELECT\n",
    "        vendedor,\n",
    "        valor,\n",
    "        NTILE(4) OVER (ORDER BY valor DESC) AS quartil\n",
    "    FROM vendas;\n",
    "\"\"\").df())"
   ]
  },
  {
   "cell_type": "code",
   "execution_count": 10,
   "id": "d32d4d99",
   "metadata": {},
   "outputs": [],
   "source": [
    "conn.close()"
   ]
  }
 ],
 "metadata": {
  "kernelspec": {
   "display_name": "Python 3",
   "language": "python",
   "name": "python3"
  },
  "language_info": {
   "codemirror_mode": {
    "name": "ipython",
    "version": 3
   },
   "file_extension": ".py",
   "mimetype": "text/x-python",
   "name": "python",
   "nbconvert_exporter": "python",
   "pygments_lexer": "ipython3",
   "version": "3.13.3"
  }
 },
 "nbformat": 4,
 "nbformat_minor": 5
}
