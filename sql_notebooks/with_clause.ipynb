{
 "cells": [
  {
   "cell_type": "markdown",
   "id": "5a7d6a39",
   "metadata": {},
   "source": [
    "# CTEs (WITH Clauses) com DuckDB\n",
    "\n",
    "* [WITH Clause](https://duckdb.org/docs/stable/sql/query_syntax/with)"
   ]
  },
  {
   "cell_type": "code",
   "execution_count": 1,
   "id": "435598c9",
   "metadata": {},
   "outputs": [],
   "source": [
    "import duckdb"
   ]
  },
  {
   "cell_type": "code",
   "execution_count": 2,
   "id": "e31c3f87",
   "metadata": {},
   "outputs": [],
   "source": [
    "conn = duckdb.connect()"
   ]
  },
  {
   "cell_type": "code",
   "execution_count": 3,
   "id": "705464a4",
   "metadata": {},
   "outputs": [
    {
     "data": {
      "text/plain": [
       "<duckdb.duckdb.DuckDBPyConnection at 0x79bd057253f0>"
      ]
     },
     "execution_count": 3,
     "metadata": {},
     "output_type": "execute_result"
    }
   ],
   "source": [
    "conn.execute(\"\"\"\n",
    "    CREATE OR REPLACE TABLE vendas (\n",
    "        id INTEGER,\n",
    "        vendedor TEXT,\n",
    "        regiao TEXT,\n",
    "        valor NUMERIC,\n",
    "        data DATE\n",
    "    );\n",
    "\"\"\")"
   ]
  },
  {
   "cell_type": "code",
   "execution_count": 4,
   "id": "c6291991",
   "metadata": {},
   "outputs": [],
   "source": [
    "dados = [\n",
    "    (1, 'Ana',    'Sul',   1000, '2024-01-01'),\n",
    "    (2, 'Bruno',  'Sul',   1500, '2024-01-02'),\n",
    "    (3, 'Carla',  'Norte', 1200, '2024-01-03'),\n",
    "    (4, 'Ana',    'Sul',   900,  '2024-01-04'),\n",
    "    (5, 'Bruno',  'Sul',   2000, '2024-01-05'),\n",
    "    (6, 'Carla',  'Norte', 1100, '2024-01-06'),\n",
    "    (7, 'Ana',    'Sul',   1300, '2024-01-07')\n",
    "]"
   ]
  },
  {
   "cell_type": "code",
   "execution_count": 5,
   "id": "29b75e41",
   "metadata": {},
   "outputs": [
    {
     "data": {
      "text/plain": [
       "<duckdb.duckdb.DuckDBPyConnection at 0x79bd057253f0>"
      ]
     },
     "execution_count": 5,
     "metadata": {},
     "output_type": "execute_result"
    }
   ],
   "source": [
    "conn.executemany(\n",
    "    \"INSERT INTO vendas VALUES (?, ?, ?, ?, ?);\",\n",
    "    dados\n",
    ")"
   ]
  },
  {
   "cell_type": "markdown",
   "id": "73323c5a",
   "metadata": {},
   "source": [
    "# Maior venda por região usando ROW_NUMBER"
   ]
  },
  {
   "cell_type": "code",
   "execution_count": 7,
   "id": "e95ef8ef",
   "metadata": {},
   "outputs": [
    {
     "data": {
      "text/html": [
       "<div>\n",
       "<style scoped>\n",
       "    .dataframe tbody tr th:only-of-type {\n",
       "        vertical-align: middle;\n",
       "    }\n",
       "\n",
       "    .dataframe tbody tr th {\n",
       "        vertical-align: top;\n",
       "    }\n",
       "\n",
       "    .dataframe thead th {\n",
       "        text-align: right;\n",
       "    }\n",
       "</style>\n",
       "<table border=\"1\" class=\"dataframe\">\n",
       "  <thead>\n",
       "    <tr style=\"text-align: right;\">\n",
       "      <th></th>\n",
       "      <th>id</th>\n",
       "      <th>vendedor</th>\n",
       "      <th>regiao</th>\n",
       "      <th>valor</th>\n",
       "      <th>data</th>\n",
       "      <th>posicao</th>\n",
       "    </tr>\n",
       "  </thead>\n",
       "  <tbody>\n",
       "    <tr>\n",
       "      <th>0</th>\n",
       "      <td>3</td>\n",
       "      <td>Carla</td>\n",
       "      <td>Norte</td>\n",
       "      <td>1200.0</td>\n",
       "      <td>2024-01-03</td>\n",
       "      <td>1</td>\n",
       "    </tr>\n",
       "    <tr>\n",
       "      <th>1</th>\n",
       "      <td>5</td>\n",
       "      <td>Bruno</td>\n",
       "      <td>Sul</td>\n",
       "      <td>2000.0</td>\n",
       "      <td>2024-01-05</td>\n",
       "      <td>1</td>\n",
       "    </tr>\n",
       "  </tbody>\n",
       "</table>\n",
       "</div>"
      ],
      "text/plain": [
       "   id vendedor regiao   valor       data  posicao\n",
       "0   3    Carla  Norte  1200.0 2024-01-03        1\n",
       "1   5    Bruno    Sul  2000.0 2024-01-05        1"
      ]
     },
     "metadata": {},
     "output_type": "display_data"
    }
   ],
   "source": [
    "display(conn.execute(\"\"\"\n",
    "    SELECT \n",
    "        *\n",
    "    FROM (\n",
    "        SELECT *,\n",
    "            ROW_NUMBER() OVER (PARTITION BY regiao ORDER BY valor DESC) AS posicao\n",
    "        FROM vendas\n",
    "    ) WHERE posicao = 1;\n",
    "\"\"\").df())"
   ]
  },
  {
   "cell_type": "code",
   "execution_count": 8,
   "id": "34e2089c",
   "metadata": {},
   "outputs": [
    {
     "data": {
      "text/html": [
       "<div>\n",
       "<style scoped>\n",
       "    .dataframe tbody tr th:only-of-type {\n",
       "        vertical-align: middle;\n",
       "    }\n",
       "\n",
       "    .dataframe tbody tr th {\n",
       "        vertical-align: top;\n",
       "    }\n",
       "\n",
       "    .dataframe thead th {\n",
       "        text-align: right;\n",
       "    }\n",
       "</style>\n",
       "<table border=\"1\" class=\"dataframe\">\n",
       "  <thead>\n",
       "    <tr style=\"text-align: right;\">\n",
       "      <th></th>\n",
       "      <th>id</th>\n",
       "      <th>vendedor</th>\n",
       "      <th>regiao</th>\n",
       "      <th>valor</th>\n",
       "      <th>data</th>\n",
       "      <th>posicao</th>\n",
       "    </tr>\n",
       "  </thead>\n",
       "  <tbody>\n",
       "    <tr>\n",
       "      <th>0</th>\n",
       "      <td>3</td>\n",
       "      <td>Carla</td>\n",
       "      <td>Norte</td>\n",
       "      <td>1200.0</td>\n",
       "      <td>2024-01-03</td>\n",
       "      <td>1</td>\n",
       "    </tr>\n",
       "    <tr>\n",
       "      <th>1</th>\n",
       "      <td>5</td>\n",
       "      <td>Bruno</td>\n",
       "      <td>Sul</td>\n",
       "      <td>2000.0</td>\n",
       "      <td>2024-01-05</td>\n",
       "      <td>1</td>\n",
       "    </tr>\n",
       "  </tbody>\n",
       "</table>\n",
       "</div>"
      ],
      "text/plain": [
       "   id vendedor regiao   valor       data  posicao\n",
       "0   3    Carla  Norte  1200.0 2024-01-03        1\n",
       "1   5    Bruno    Sul  2000.0 2024-01-05        1"
      ]
     },
     "metadata": {},
     "output_type": "display_data"
    }
   ],
   "source": [
    "display(conn.execute(\"\"\"\n",
    "    WITH vendas_ranked AS (\n",
    "        SELECT *,\n",
    "            ROW_NUMBER() OVER (PARTITION BY regiao ORDER BY valor DESC) AS posicao\n",
    "        FROM vendas\n",
    "    )\n",
    "    SELECT\n",
    "        *\n",
    "    FROM vendas_ranked\n",
    "    WHERE posicao = 1;\n",
    "\"\"\").df())"
   ]
  },
  {
   "cell_type": "markdown",
   "id": "38877074",
   "metadata": {},
   "source": [
    "# Acima da média por região"
   ]
  },
  {
   "cell_type": "code",
   "execution_count": 9,
   "id": "2fc2436a",
   "metadata": {},
   "outputs": [
    {
     "data": {
      "text/html": [
       "<div>\n",
       "<style scoped>\n",
       "    .dataframe tbody tr th:only-of-type {\n",
       "        vertical-align: middle;\n",
       "    }\n",
       "\n",
       "    .dataframe tbody tr th {\n",
       "        vertical-align: top;\n",
       "    }\n",
       "\n",
       "    .dataframe thead th {\n",
       "        text-align: right;\n",
       "    }\n",
       "</style>\n",
       "<table border=\"1\" class=\"dataframe\">\n",
       "  <thead>\n",
       "    <tr style=\"text-align: right;\">\n",
       "      <th></th>\n",
       "      <th>vendedor</th>\n",
       "      <th>valor</th>\n",
       "      <th>regiao</th>\n",
       "      <th>media_vendas</th>\n",
       "    </tr>\n",
       "  </thead>\n",
       "  <tbody>\n",
       "    <tr>\n",
       "      <th>0</th>\n",
       "      <td>Bruno</td>\n",
       "      <td>1500.0</td>\n",
       "      <td>Sul</td>\n",
       "      <td>1340.0</td>\n",
       "    </tr>\n",
       "    <tr>\n",
       "      <th>1</th>\n",
       "      <td>Carla</td>\n",
       "      <td>1200.0</td>\n",
       "      <td>Norte</td>\n",
       "      <td>1150.0</td>\n",
       "    </tr>\n",
       "    <tr>\n",
       "      <th>2</th>\n",
       "      <td>Bruno</td>\n",
       "      <td>2000.0</td>\n",
       "      <td>Sul</td>\n",
       "      <td>1340.0</td>\n",
       "    </tr>\n",
       "  </tbody>\n",
       "</table>\n",
       "</div>"
      ],
      "text/plain": [
       "  vendedor   valor regiao  media_vendas\n",
       "0    Bruno  1500.0    Sul        1340.0\n",
       "1    Carla  1200.0  Norte        1150.0\n",
       "2    Bruno  2000.0    Sul        1340.0"
      ]
     },
     "metadata": {},
     "output_type": "display_data"
    }
   ],
   "source": [
    "display(conn.execute(\"\"\"\n",
    "    WITH media_por_regiao AS (\n",
    "        SELECT\n",
    "            regiao,\n",
    "            AVG(valor) AS media_vendas\n",
    "        FROM vendas\n",
    "        GROUP BY regiao\n",
    "    )\n",
    "    SELECT\n",
    "        v.vendedor,\n",
    "        v.valor,\n",
    "        v.regiao,\n",
    "        m.media_vendas\n",
    "    FROM vendas v\n",
    "    JOIN media_por_regiao m ON v.regiao = m.regiao\n",
    "    WHERE v.valor > m.media_vendas;\n",
    "\"\"\").df())"
   ]
  },
  {
   "cell_type": "markdown",
   "id": "918f51fb",
   "metadata": {},
   "source": [
    "# CTEs encadeadas: média e soma por região"
   ]
  },
  {
   "cell_type": "code",
   "execution_count": 10,
   "id": "9f574ba9",
   "metadata": {},
   "outputs": [
    {
     "data": {
      "text/html": [
       "<div>\n",
       "<style scoped>\n",
       "    .dataframe tbody tr th:only-of-type {\n",
       "        vertical-align: middle;\n",
       "    }\n",
       "\n",
       "    .dataframe tbody tr th {\n",
       "        vertical-align: top;\n",
       "    }\n",
       "\n",
       "    .dataframe thead th {\n",
       "        text-align: right;\n",
       "    }\n",
       "</style>\n",
       "<table border=\"1\" class=\"dataframe\">\n",
       "  <thead>\n",
       "    <tr style=\"text-align: right;\">\n",
       "      <th></th>\n",
       "      <th>regiao</th>\n",
       "      <th>media_valor</th>\n",
       "      <th>soma_valor</th>\n",
       "    </tr>\n",
       "  </thead>\n",
       "  <tbody>\n",
       "    <tr>\n",
       "      <th>0</th>\n",
       "      <td>Norte</td>\n",
       "      <td>1150.0</td>\n",
       "      <td>2300.0</td>\n",
       "    </tr>\n",
       "    <tr>\n",
       "      <th>1</th>\n",
       "      <td>Sul</td>\n",
       "      <td>1340.0</td>\n",
       "      <td>6700.0</td>\n",
       "    </tr>\n",
       "  </tbody>\n",
       "</table>\n",
       "</div>"
      ],
      "text/plain": [
       "  regiao  media_valor  soma_valor\n",
       "0  Norte       1150.0      2300.0\n",
       "1    Sul       1340.0      6700.0"
      ]
     },
     "metadata": {},
     "output_type": "display_data"
    }
   ],
   "source": [
    "display(conn.execute(\"\"\"\n",
    "    WITH media AS (\n",
    "        SELECT \n",
    "            regiao,\n",
    "            AVG(valor) AS media_valor\n",
    "        FROM vendas\n",
    "        GROUP BY regiao\n",
    "    ),\n",
    "    soma AS (\n",
    "        SELECT\n",
    "            regiao,\n",
    "            SUM(valor) AS soma_valor\n",
    "        FROM vendas\n",
    "        GROUP BY regiao\n",
    "    )\n",
    "    SELECT\n",
    "        m.regiao,\n",
    "        m.media_valor,\n",
    "        s.soma_valor\n",
    "    FROM media m\n",
    "    JOIN soma s ON m.regiao = s.regiao;\n",
    "\"\"\").df())"
   ]
  },
  {
   "cell_type": "code",
   "execution_count": null,
   "id": "06a60179",
   "metadata": {},
   "outputs": [],
   "source": [
    "conn.close()"
   ]
  }
 ],
 "metadata": {
  "kernelspec": {
   "display_name": "Python 3",
   "language": "python",
   "name": "python3"
  },
  "language_info": {
   "codemirror_mode": {
    "name": "ipython",
    "version": 3
   },
   "file_extension": ".py",
   "mimetype": "text/x-python",
   "name": "python",
   "nbconvert_exporter": "python",
   "pygments_lexer": "ipython3",
   "version": "3.13.3"
  }
 },
 "nbformat": 4,
 "nbformat_minor": 5
}
